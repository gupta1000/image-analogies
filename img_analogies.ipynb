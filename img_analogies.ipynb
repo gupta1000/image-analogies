{
  "nbformat": 4,
  "nbformat_minor": 0,
  "metadata": {
    "kernelspec": {
      "display_name": "Python 3",
      "language": "python",
      "name": "python3"
    },
    "language_info": {
      "codemirror_mode": {
        "name": "ipython",
        "version": 3
      },
      "file_extension": ".py",
      "mimetype": "text/x-python",
      "name": "python",
      "nbconvert_exporter": "python",
      "pygments_lexer": "ipython3",
      "version": "3.6.9"
    },
    "colab": {
      "name": "img-analogies.ipynb",
      "provenance": [],
      "collapsed_sections": [],
      "include_colab_link": true
    }
  },
  "cells": [
    {
      "cell_type": "markdown",
      "metadata": {
        "id": "view-in-github",
        "colab_type": "text"
      },
      "source": [
        "<a href=\"https://colab.research.google.com/github/gupta1000/image-analogies/blob/master/img_analogies.ipynb\" target=\"_parent\"><img src=\"https://colab.research.google.com/assets/colab-badge.svg\" alt=\"Open In Colab\"/></a>"
      ]
    },
    {
      "cell_type": "markdown",
      "metadata": {
        "id": "9KNzkbMntIrK",
        "colab_type": "text"
      },
      "source": [
        "# CS445 Final Project: Image Analogies\n",
        "#### Michael Kokkines (mgk3) & Kush Gupta (kg3)\n"
      ]
    },
    {
      "cell_type": "markdown",
      "metadata": {
        "id": "me5xCwwuwjq8",
        "colab_type": "text"
      },
      "source": [
        "Something about image analogies"
      ]
    },
    {
      "cell_type": "markdown",
      "metadata": {
        "id": "xHua2J0bI2Ud",
        "colab_type": "text"
      },
      "source": [
        "**Setup**"
      ]
    },
    {
      "cell_type": "code",
      "metadata": {
        "id": "c1aVC3XNtIrO",
        "colab_type": "code",
        "colab": {}
      },
      "source": [
        "import cv2\n",
        "import numpy as np\n",
        "from scipy import signal\n",
        "\n",
        "%matplotlib inline\n",
        "from matplotlib import pyplot as plt\n",
        "\n",
        "from google.colab.patches import cv2_imshow"
      ],
      "execution_count": 0,
      "outputs": []
    },
    {
      "cell_type": "code",
      "metadata": {
        "id": "GFRo0qglHQ1C",
        "colab_type": "code",
        "colab": {}
      },
      "source": [
        "!pip install annoy\n",
        "from annoy import AnnoyIndex"
      ],
      "execution_count": 0,
      "outputs": []
    },
    {
      "cell_type": "code",
      "metadata": {
        "id": "nYH1V3CHL6yt",
        "colab_type": "code",
        "colab": {}
      },
      "source": [
        "from google.colab import files\n",
        "\n",
        "uploaded = files.upload()\n",
        "\n",
        "for fn in uploaded.keys():\n",
        "  print('User uploaded file \"{name}\" with length {length} bytes'.format(\n",
        "      name=fn, length=len(uploaded[fn])))"
      ],
      "execution_count": 0,
      "outputs": []
    },
    {
      "cell_type": "code",
      "metadata": {
        "id": "hi2QIiuGH0ib",
        "colab_type": "code",
        "colab": {}
      },
      "source": [
        "A_fname = \"a.png\"\n",
        "Ap_fname = \"a_p.png\"\n",
        "B_fname = \"b.png\""
      ],
      "execution_count": 0,
      "outputs": []
    },
    {
      "cell_type": "code",
      "metadata": {
        "id": "A1Bm1bWcLyX2",
        "colab_type": "code",
        "colab": {}
      },
      "source": [
        "A = cv2.imread(A_fname, cv2.IMREAD_UNCHANGED)\n",
        "cv2_imshow(A)"
      ],
      "execution_count": 0,
      "outputs": []
    },
    {
      "cell_type": "code",
      "metadata": {
        "colab_type": "code",
        "id": "8p1jGoppH-kX",
        "colab": {}
      },
      "source": [
        "A_p = cv2.imread(Ap_fname, cv2.IMREAD_UNCHANGED)\n",
        "cv2_imshow(A_p)"
      ],
      "execution_count": 0,
      "outputs": []
    },
    {
      "cell_type": "code",
      "metadata": {
        "colab_type": "code",
        "id": "ITykgYyMH-ui",
        "colab": {}
      },
      "source": [
        "B = cv2.imread(B_fname, cv2.IMREAD_UNCHANGED)\n",
        "cv2_imshow(A_p)"
      ],
      "execution_count": 0,
      "outputs": []
    },
    {
      "cell_type": "markdown",
      "metadata": {
        "id": "Y357FlCAIlu0",
        "colab_type": "text"
      },
      "source": [
        "**Gaussian Computation**"
      ]
    },
    {
      "cell_type": "code",
      "metadata": {
        "id": "ONdec00D5-qM",
        "colab_type": "code",
        "colab": {}
      },
      "source": [
        "def gaussian_kernel(sigma, kernel_half_size):\n",
        "    '''\n",
        "    Inputs:\n",
        "        sigma = standard deviation for the gaussian kernel\n",
        "        kernel_half_size = recommended to be at least 3*sigma\n",
        "    \n",
        "    Output:\n",
        "        Returns a 2D Gaussian kernel matrix\n",
        "    '''\n",
        "    window_size = kernel_half_size*2+1\n",
        "    gaussian_kernel_1d = signal.gaussian(window_size, std=sigma).reshape(window_size, 1)\n",
        "    gaussian_kernel_2d = np.outer(gaussian_kernel_1d, gaussian_kernel_1d)\n",
        "    gaussian_kernel_2d /= np.sum(gaussian_kernel_2d)\n",
        "    return gaussian_kernel_2d"
      ],
      "execution_count": 0,
      "outputs": []
    },
    {
      "cell_type": "code",
      "metadata": {
        "id": "kjC8TqFyIVya",
        "colab_type": "code",
        "colab": {}
      },
      "source": [
        "def gaussian_pyr(im, levels):\n",
        "  images = []\n",
        "  kernel = gaussian_kernel(4, 8)\n",
        "\n",
        "  prev_img = signal.convolve2d(\n",
        "        im, \n",
        "        kernel,\n",
        "        boundary=\"symm\",\n",
        "        mode=\"same\" \n",
        "  )\n",
        "  images.append(prev_img)\n",
        "  \n",
        "  for i in range(levels - 1):\n",
        "    prev_img = cv2.resize(\n",
        "      signal.convolve2d(\n",
        "          prev_img, \n",
        "          kernel, \n",
        "          boundary=\"symm\", \n",
        "          mode=\"same\"\n",
        "        ),\n",
        "        None, \n",
        "        fx=.5, \n",
        "        fy=.5\n",
        "    )\n",
        "    images.append(prev_img)\n",
        "  \n",
        "  return images\n",
        "\n",
        "\n",
        "def gaussian_pyr_rgb(im, levels):\n",
        "  red_images = gaussian_pyr(im[:, :, 0], levels)\n",
        "  green_images = gaussian_pyr(im[:, :, 1], levels)\n",
        "  blue_images = gaussian_pyr(im[:, :, 2], levels)\n",
        "\n",
        "  images = []\n",
        "  for i in range(len(red_images)):\n",
        "    img = np.zeros((red_images[i].shape[0], red_images[i].shape[1], 3))\n",
        "    img[:, :, 0] = red_images[i]\n",
        "    img[:, :, 1] = green_images[i]\n",
        "    img[:, :, 2] = blue_images[i]\n",
        "    images.append(img)\n",
        "  \n",
        "  return images[::-1]"
      ],
      "execution_count": 0,
      "outputs": []
    },
    {
      "cell_type": "code",
      "metadata": {
        "id": "H0BSS-ieIZOO",
        "colab_type": "code",
        "colab": {}
      },
      "source": [
        "def build_gaussians(A, A_p, B, L):\n",
        "  a = gaussian_pyr_rgb(A, L)\n",
        "  a_p = gaussian_pyr_rgb(A_p, L)\n",
        "  b = gaussian_pyr_rgb(B, L)\n",
        "  return a, a_p, b"
      ],
      "execution_count": 0,
      "outputs": []
    },
    {
      "cell_type": "markdown",
      "metadata": {
        "id": "eQTN7SYeIoyH",
        "colab_type": "text"
      },
      "source": [
        "**Feature Computation**"
      ]
    },
    {
      "cell_type": "code",
      "metadata": {
        "id": "PFrsIOclDASb",
        "colab_type": "code",
        "colab": {}
      },
      "source": [
        "num_features = 4"
      ],
      "execution_count": 0,
      "outputs": []
    },
    {
      "cell_type": "code",
      "metadata": {
        "id": "gg3ii3XnIgqi",
        "colab_type": "code",
        "colab": {}
      },
      "source": [
        "def compute_features(im):\n",
        "  feature_vec = np.zeros((im.shape[0], im.shape[1], num_features))\n",
        "\n",
        "  # Add the RGB channels\n",
        "  feature_vec[:, :, 0:3] = im\n",
        "\n",
        "  # Now, extract luminance\n",
        "  lab_im = cv2.cvtColor(im.astype('float32'), cv2.COLOR_BGR2LAB)\n",
        "  feature_vec[:,  :, 3] = lab_im[:, :, 0]\n",
        "  \n",
        "  return feature_vec"
      ],
      "execution_count": 0,
      "outputs": []
    },
    {
      "cell_type": "code",
      "metadata": {
        "id": "lQQunXVIIrH2",
        "colab_type": "code",
        "colab": {}
      },
      "source": [
        "def compute_featuresets(a, a_p, b, L):\n",
        "  a_feat = []\n",
        "  a_p_feat = []\n",
        "  b_feat = []\n",
        "  for l in range(L):\n",
        "    a_feat.append(compute_features(a[l]))\n",
        "    a_p_feat.append(compute_features(a_p[l]))\n",
        "    b_feat.append(compute_features(b[l]))\n",
        "  return a_feat, a_p_feat, b_feat"
      ],
      "execution_count": 0,
      "outputs": []
    },
    {
      "cell_type": "markdown",
      "metadata": {
        "id": "tXvqHCpbJ-Lr",
        "colab_type": "text"
      },
      "source": [
        "**Pixel Matching**"
      ]
    },
    {
      "cell_type": "markdown",
      "metadata": {
        "id": "C5crHA3Js_Ar",
        "colab_type": "text"
      },
      "source": [
        "*Approximate Matching*"
      ]
    },
    {
      "cell_type": "code",
      "metadata": {
        "id": "Oyejjc5WL06S",
        "colab_type": "code",
        "colab": {}
      },
      "source": [
        "def plant_forest(im, L):\n",
        "  forests = []\n",
        "\n",
        "  for level in range(L):\n",
        "    # We decided to use Manhattan distance\n",
        "    ann = AnnoyIndex(num_features, \"manhattan\")\n",
        "    \n",
        "    i = 0\n",
        "    for r in range(im.shape[0]):\n",
        "      for c in range(im.shape[1]):\n",
        "        ann.add_item(i, im[r, c, :])\n",
        "        i += 1\n",
        "    \n",
        "    # Create a forest of ten trees\n",
        "    ann.build(10)\n",
        "    forests.append(ann)\n",
        "  \n",
        "  return forests"
      ],
      "execution_count": 0,
      "outputs": []
    },
    {
      "cell_type": "code",
      "metadata": {
        "id": "Jay1Kapfs6Ih",
        "colab_type": "code",
        "colab": {}
      },
      "source": [
        "def best_approx_match(forest, b, q):\n",
        "  return forest.get_item_vector(\n",
        "      forest.get_nns_by_vector(b[q], 1, search_k=forest.get_n_items())[0]\n",
        "    )"
      ],
      "execution_count": 0,
      "outputs": []
    },
    {
      "cell_type": "markdown",
      "metadata": {
        "id": "AAvm3q4uvps3",
        "colab_type": "text"
      },
      "source": [
        "*Feature Distance*"
      ]
    },
    {
      "cell_type": "code",
      "metadata": {
        "id": "xWsmhcbQldFb",
        "colab_type": "code",
        "colab": {}
      },
      "source": [
        "def normalize_f(f):\n",
        "  norm = np.zeros(f.shape)\n",
        "  gk = gaussian_kernel(f.shape[0]/6, int(f.shape[0]/2))\n",
        "  for i in range(num_features):\n",
        "    norm[:,:,i] = f[:,:,i] * gk\n",
        "  return norm"
      ],
      "execution_count": 0,
      "outputs": []
    },
    {
      "cell_type": "code",
      "metadata": {
        "id": "hC3V1GVeUick",
        "colab_type": "code",
        "colab": {}
      },
      "source": [
        "# TODO: make this not th most horrible thing in existance\n",
        "def concat_feat(fpyr, p, l, fine_bound=2, coarse_bound=1):\n",
        "  p_y = p[0]\n",
        "  p_x = p[1]\n",
        "\n",
        "  if (p_x - fine_bound < 0 or p_x + fine_bound >= fpyr[l].shape[1] or p_y - fine_bound < 0 or p_y + fine_bound >= fpyr[l].shape[0]):\n",
        "    p_x += fine_bound\n",
        "    p_y += fine_bound\n",
        "    lpyr = np.zeros((fpyr[l].shape[0]+fine_bound, fpyr[l].shape[1]+fine_bound, fpyr[l].shape[2]))\n",
        "    lpyr[fine_bound:fine_bound+fpyr[l].shape[0],fine_bound:fine_bound+fpyr[l].shape[1]] = fpyr[l]\n",
        "\n",
        "    f = normalize_f(lpyr[p_y-fine_bound:p_y+fine_bound+1, p_x-fine_bound:p_x+fine_bound+1]).flatten()\n",
        "\n",
        "    f_coarse = np.zeros(((2 * coarse_bound + 1)**2*num_features))\n",
        "    if (l > 0):\n",
        "      lpyr_coarse = np.zeros((fpyr[l-1].shape[0]+coarse_bound, fpyr[l-1].shape[1]+coarse_bound, fpyr[l-1].shape[2]))\n",
        "      lpyr_coarse[coarse_bound:coarse_bound+fpyr[l-1].shape[0],coarse_bound:coarse_bound+fpyr[l-1].shape[1]] = fpyr[l-1]\n",
        "      f_coarse = normalize_f(lpyr_coarse[int(p_y/2)-coarse_bound:int(p_y/2)+coarse_bound+1,int(p_x/2)-coarse_bound:int(p_x/2)+coarse_bound+1]).flatten()\n",
        "    return np.concatenate((f, f_coarse), axis=0) \n",
        "\n",
        "  lpyr = fpyr[l]\n",
        "\n",
        "  f = normalize_f(lpyr[p_y-fine_bound:p_y+fine_bound+1, p_x-fine_bound:p_x+fine_bound+1]).flatten()\n",
        "\n",
        "  f_coarse = np.zeros((2 * coarse_bound + 1)**2*num_features)\n",
        "  if (l > 0):\n",
        "    f_coarse = normalize_f(fpyr[l-1][int(p_y/2)-coarse_bound:int(p_y/2)+coarse_bound+1,int(p_x/2)-coarse_bound:int(p_x/2)+coarse_bound+1]).flatten()\n",
        "  return np.concatenate((f, f_coarse), axis=0) "
      ],
      "execution_count": 0,
      "outputs": []
    },
    {
      "cell_type": "code",
      "metadata": {
        "id": "OvjkFeIWluYe",
        "colab_type": "code",
        "colab": {}
      },
      "source": [
        "def F_l(a_f, a_p_f, p, l):\n",
        "  return np.concatenate((concat_feat(a_f, p, l, fine_bound=2, coarse_bound=1), concat_feat(a_p_f, p, l, fine_bound=2, coarse_bound=1)), axis=0)"
      ],
      "execution_count": 0,
      "outputs": []
    },
    {
      "cell_type": "code",
      "metadata": {
        "id": "w_zEWgw5vpzc",
        "colab_type": "code",
        "colab": {}
      },
      "source": [
        "def feature_dist(a_f, a_p_f, b_f, b_p_f, p, q, l, fine_bound=2, coarse_bound=1):\n",
        "  return np.linalg.norm(F_l(a_f, a_p_f, p, l) - F_l(b_f, b_p_f, p, l), ord=2)"
      ],
      "execution_count": 0,
      "outputs": []
    },
    {
      "cell_type": "code",
      "metadata": {
        "id": "1pDD07yYkb71",
        "colab_type": "code",
        "colab": {}
      },
      "source": [
        "print(feature_dist(a_features, a_p_features, b_features, b_features, (1,1), (100,100), 2))"
      ],
      "execution_count": 0,
      "outputs": []
    },
    {
      "cell_type": "markdown",
      "metadata": {
        "id": "b3XSNvh7tEAS",
        "colab_type": "text"
      },
      "source": [
        "*Coherence Matching*"
      ]
    },
    {
      "cell_type": "code",
      "metadata": {
        "id": "GZYyzk_qs3es",
        "colab_type": "code",
        "colab": {}
      },
      "source": [
        "def best_coherence_match(a_f, b_f, s, q, l):\n",
        "  "
      ],
      "execution_count": 0,
      "outputs": []
    },
    {
      "cell_type": "markdown",
      "metadata": {
        "id": "j0_-CLCZtJHb",
        "colab_type": "text"
      },
      "source": [
        "*Matching Core*"
      ]
    },
    {
      "cell_type": "code",
      "metadata": {
        "id": "V-txWZqxxNIZ",
        "colab_type": "code",
        "colab": {}
      },
      "source": [
        "# We typically use 2 ≤ K ≤ 25 for color non-photorealistic filters,\n",
        "# K = 1 for line art filters, and 0.5 ≤ K ≤ 5 for texture synthesis.\n",
        "\n",
        "K = 1"
      ],
      "execution_count": 0,
      "outputs": []
    },
    {
      "cell_type": "code",
      "metadata": {
        "id": "OSgOI3fnKA3q",
        "colab_type": "code",
        "colab": {}
      },
      "source": [
        "def best_match():\n",
        "  p_app = best_approx_match()\n",
        "  p_coh = best_coherence_match()\n",
        "  dist_app = feature_dist()\n",
        "  dist_coh = feature_dist()\n",
        "  return p_coh if (dist_coh <= (dist_app * (1 + 2^(lvl - L) * K))) else p_app"
      ],
      "execution_count": 0,
      "outputs": []
    },
    {
      "cell_type": "code",
      "metadata": {
        "id": "R-GteATpKFUK",
        "colab_type": "code",
        "colab": {}
      },
      "source": [
        "def match_all():\n",
        "  for l in range(L):\n",
        "    for q_y in range(out_h):\n",
        "      for q_x in range(out_w):\n",
        "        p = best_match()\n",
        "        b_p[l][q_y,q_x] = a_p[l][p]\n",
        "        s[l][q_y,q_x] = p"
      ],
      "execution_count": 0,
      "outputs": []
    },
    {
      "cell_type": "markdown",
      "metadata": {
        "id": "srj2sBt2Iqf3",
        "colab_type": "text"
      },
      "source": [
        "**Image Analogies Core**"
      ]
    },
    {
      "cell_type": "markdown",
      "metadata": {
        "id": "rA7gs86DJa0o",
        "colab_type": "text"
      },
      "source": [
        "Unit Testing"
      ]
    },
    {
      "cell_type": "code",
      "metadata": {
        "id": "ALGR1CtUJXcH",
        "colab_type": "code",
        "colab": {}
      },
      "source": [
        "# levels\n",
        "L = 3 \n",
        "\n",
        "# size\n",
        "out_w = 640\n",
        "out_h = 480"
      ],
      "execution_count": 0,
      "outputs": []
    },
    {
      "cell_type": "code",
      "metadata": {
        "id": "5it2AejJJxnC",
        "colab_type": "code",
        "colab": {}
      },
      "source": [
        "a, a_p, b = build_gaussians(A, A_p, B, L)"
      ],
      "execution_count": 0,
      "outputs": []
    },
    {
      "cell_type": "code",
      "metadata": {
        "id": "qo-hNhwxJ3zM",
        "colab_type": "code",
        "colab": {}
      },
      "source": [
        "a_features, a_p_features, b_features = compute_featuresets(a, a_p, b, L)"
      ],
      "execution_count": 0,
      "outputs": []
    },
    {
      "cell_type": "code",
      "metadata": {
        "id": "ShrBD-AeKiaI",
        "colab_type": "code",
        "colab": {}
      },
      "source": [
        "_ = match_all()"
      ],
      "execution_count": 0,
      "outputs": []
    },
    {
      "cell_type": "markdown",
      "metadata": {
        "id": "UBeCccN5JdHU",
        "colab_type": "text"
      },
      "source": [
        "Fully Automated Runs"
      ]
    },
    {
      "cell_type": "code",
      "metadata": {
        "id": "WRERY888FC9t",
        "colab_type": "code",
        "colab": {}
      },
      "source": [
        "# create image analogy (size: out_w x out_h) for image B using references A : A_p\n",
        "# using a gaussian pyramid of the specified number of levels 'L'\n",
        "def create_image_analogy(A, A_p, B, L, out_w, out_h):\n",
        "\n",
        "  # step 1: create gaussian pyramids for A, A_p, and B\n",
        "  _ = build_gaussians()\n",
        "  # step 2: compute features for A, A_p, and B\n",
        "  _ = compute_featuresets()\n",
        "  \n",
        "  # various init stuff\n",
        "\n",
        "  # step 3: solve for best matches\n",
        "  _ = match_all()\n",
        "\n",
        "  return"
      ],
      "execution_count": 0,
      "outputs": []
    }
  ]
}