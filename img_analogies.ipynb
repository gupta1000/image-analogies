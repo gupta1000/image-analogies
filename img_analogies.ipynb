{
  "nbformat": 4,
  "nbformat_minor": 0,
  "metadata": {
    "kernelspec": {
      "display_name": "Python 3",
      "language": "python",
      "name": "python3"
    },
    "language_info": {
      "codemirror_mode": {
        "name": "ipython",
        "version": 3
      },
      "file_extension": ".py",
      "mimetype": "text/x-python",
      "name": "python",
      "nbconvert_exporter": "python",
      "pygments_lexer": "ipython3",
      "version": "3.6.9"
    },
    "colab": {
      "name": "img-analogies.ipynb",
      "provenance": [],
      "include_colab_link": true
    }
  },
  "cells": [
    {
      "cell_type": "markdown",
      "metadata": {
        "id": "view-in-github",
        "colab_type": "text"
      },
      "source": [
        "<a href=\"https://colab.research.google.com/github/gupta1000/image-analogies/blob/master/img_analogies.ipynb\" target=\"_parent\"><img src=\"https://colab.research.google.com/assets/colab-badge.svg\" alt=\"Open In Colab\"/></a>"
      ]
    },
    {
      "cell_type": "markdown",
      "metadata": {
        "id": "9KNzkbMntIrK",
        "colab_type": "text"
      },
      "source": [
        "# CS445 Final Project: Image Analogies\n",
        "#### Michael Kokkines (mgk3) & Kush Gupta (kg3)\n"
      ]
    },
    {
      "cell_type": "markdown",
      "metadata": {
        "id": "me5xCwwuwjq8",
        "colab_type": "text"
      },
      "source": [
        "Something about image analogies"
      ]
    },
    {
      "cell_type": "code",
      "metadata": {
        "id": "c1aVC3XNtIrO",
        "colab_type": "code",
        "colab": {}
      },
      "source": [
        "import cv2\n",
        "import numpy as np\n",
        "from numpy.linalg import svd, inv\n",
        "\n",
        "%matplotlib inline\n",
        "from matplotlib import pyplot as plt\n",
        "\n"
      ],
      "execution_count": 0,
      "outputs": []
    },
    {
      "cell_type": "code",
      "metadata": {
        "id": "jTouuypztIrS",
        "colab_type": "code",
        "colab": {}
      },
      "source": [
        "# images location\n",
        "im1 = './images/input/frames/f0001.jpg'\n",
        "im2 = './images/input/frames/f0270.jpg'\n",
        "\n",
        "# Load an color image in grayscale\n",
        "im1 = cv2.imread(im1)\n",
        "im2 = cv2.imread(im2)"
      ],
      "execution_count": 0,
      "outputs": []
    }
  ]
}